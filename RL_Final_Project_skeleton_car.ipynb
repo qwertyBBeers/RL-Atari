{
  "cells": [
    {
      "cell_type": "code",
      "execution_count": 1,
      "metadata": {
        "colab": {
          "base_uri": "https://localhost:8080/"
        },
        "id": "XIZy9uSNF0PF",
        "outputId": "3af14a34-752a-49cb-ba01-451fbfa94cbd"
      },
      "outputs": [
        {
          "name": "stdout",
          "output_type": "stream",
          "text": [
            "Requirement already satisfied: gymnasium in /home/hyoungho/.local/lib/python3.8/site-packages (0.29.1)\n",
            "Requirement already satisfied: farama-notifications>=0.0.1 in /home/hyoungho/.local/lib/python3.8/site-packages (from gymnasium) (0.0.4)\n",
            "Requirement already satisfied: importlib-metadata>=4.8.0; python_version < \"3.10\" in /home/hyoungho/.local/lib/python3.8/site-packages (from gymnasium) (7.1.0)\n",
            "Requirement already satisfied: cloudpickle>=1.2.0 in /home/hyoungho/.local/lib/python3.8/site-packages (from gymnasium) (3.0.0)\n",
            "Requirement already satisfied: typing-extensions>=4.3.0 in /home/hyoungho/.local/lib/python3.8/site-packages (from gymnasium) (4.12.1)\n",
            "Requirement already satisfied: numpy>=1.21.0 in /home/hyoungho/.local/lib/python3.8/site-packages (from gymnasium) (1.24.4)\n",
            "Requirement already satisfied: zipp>=0.5 in /home/hyoungho/.local/lib/python3.8/site-packages (from importlib-metadata>=4.8.0; python_version < \"3.10\"->gymnasium) (3.19.1)\n",
            "Requirement already satisfied: torch in /home/hyoungho/.local/lib/python3.8/site-packages (2.3.0)\n",
            "Requirement already satisfied: nvidia-cufft-cu12==11.0.2.54; platform_system == \"Linux\" and platform_machine == \"x86_64\" in /home/hyoungho/.local/lib/python3.8/site-packages (from torch) (11.0.2.54)\n",
            "Requirement already satisfied: typing-extensions>=4.8.0 in /home/hyoungho/.local/lib/python3.8/site-packages (from torch) (4.12.1)\n",
            "Requirement already satisfied: nvidia-curand-cu12==10.3.2.106; platform_system == \"Linux\" and platform_machine == \"x86_64\" in /home/hyoungho/.local/lib/python3.8/site-packages (from torch) (10.3.2.106)\n",
            "Requirement already satisfied: nvidia-cusparse-cu12==12.1.0.106; platform_system == \"Linux\" and platform_machine == \"x86_64\" in /home/hyoungho/.local/lib/python3.8/site-packages (from torch) (12.1.0.106)\n",
            "Requirement already satisfied: fsspec in /home/hyoungho/.local/lib/python3.8/site-packages (from torch) (2024.5.0)\n",
            "Requirement already satisfied: nvidia-nccl-cu12==2.20.5; platform_system == \"Linux\" and platform_machine == \"x86_64\" in /home/hyoungho/.local/lib/python3.8/site-packages (from torch) (2.20.5)\n",
            "Requirement already satisfied: nvidia-cublas-cu12==12.1.3.1; platform_system == \"Linux\" and platform_machine == \"x86_64\" in /home/hyoungho/.local/lib/python3.8/site-packages (from torch) (12.1.3.1)\n",
            "Requirement already satisfied: nvidia-cuda-runtime-cu12==12.1.105; platform_system == \"Linux\" and platform_machine == \"x86_64\" in /home/hyoungho/.local/lib/python3.8/site-packages (from torch) (12.1.105)\n",
            "Requirement already satisfied: networkx in /home/hyoungho/.local/lib/python3.8/site-packages (from torch) (3.1)\n",
            "Requirement already satisfied: nvidia-cudnn-cu12==8.9.2.26; platform_system == \"Linux\" and platform_machine == \"x86_64\" in /home/hyoungho/.local/lib/python3.8/site-packages (from torch) (8.9.2.26)\n",
            "Requirement already satisfied: nvidia-cusolver-cu12==11.4.5.107; platform_system == \"Linux\" and platform_machine == \"x86_64\" in /home/hyoungho/.local/lib/python3.8/site-packages (from torch) (11.4.5.107)\n",
            "Requirement already satisfied: nvidia-nvtx-cu12==12.1.105; platform_system == \"Linux\" and platform_machine == \"x86_64\" in /home/hyoungho/.local/lib/python3.8/site-packages (from torch) (12.1.105)\n",
            "Requirement already satisfied: jinja2 in /home/hyoungho/.local/lib/python3.8/site-packages (from torch) (3.1.4)\n",
            "Requirement already satisfied: nvidia-cuda-nvrtc-cu12==12.1.105; platform_system == \"Linux\" and platform_machine == \"x86_64\" in /home/hyoungho/.local/lib/python3.8/site-packages (from torch) (12.1.105)\n",
            "Requirement already satisfied: nvidia-cuda-cupti-cu12==12.1.105; platform_system == \"Linux\" and platform_machine == \"x86_64\" in /home/hyoungho/.local/lib/python3.8/site-packages (from torch) (12.1.105)\n",
            "Requirement already satisfied: sympy in /home/hyoungho/.local/lib/python3.8/site-packages (from torch) (1.12.1)\n",
            "Requirement already satisfied: triton==2.3.0; platform_system == \"Linux\" and platform_machine == \"x86_64\" and python_version < \"3.12\" in /home/hyoungho/.local/lib/python3.8/site-packages (from torch) (2.3.0)\n",
            "Requirement already satisfied: filelock in /home/hyoungho/.local/lib/python3.8/site-packages (from torch) (3.14.0)\n",
            "Requirement already satisfied: nvidia-nvjitlink-cu12 in /home/hyoungho/.local/lib/python3.8/site-packages (from nvidia-cusparse-cu12==12.1.0.106; platform_system == \"Linux\" and platform_machine == \"x86_64\"->torch) (12.5.40)\n",
            "Requirement already satisfied: MarkupSafe>=2.0 in /home/hyoungho/.local/lib/python3.8/site-packages (from jinja2->torch) (2.1.5)\n",
            "Requirement already satisfied: mpmath<1.4.0,>=1.1.0 in /home/hyoungho/.local/lib/python3.8/site-packages (from sympy->torch) (1.3.0)\n"
          ]
        }
      ],
      "source": [
        "!pip install gymnasium\n",
        "!pip install torch"
      ]
    },
    {
      "cell_type": "markdown",
      "metadata": {
        "id": "IZTUc41dDb_k"
      },
      "source": [
        "--\n",
        "\n",
        "Environment Description\n",
        "\n",
        "CartPole-v1 : https://gymnasium.farama.org/environments/classic_control/cart_pole/\n",
        "\n",
        "Acrobot-v1 : https://gymnasium.farama.org/environments/classic_control/acrobot/\n",
        "\n",
        "MountainCar-v0 : https://gymnasium.farama.org/environments/classic_control/mountain_car/\n",
        "\n",
        "--"
      ]
    },
    {
      "cell_type": "code",
      "execution_count": 2,
      "metadata": {
        "id": "D9igj6TrV25J"
      },
      "outputs": [],
      "source": [
        "import os\n",
        "import gymnasium as gym\n",
        "import torch\n",
        "import torch.nn as nn\n",
        "import torch.nn.functional as F\n",
        "import torch.optim as optim\n",
        "import numpy as np\n",
        "import random\n",
        "from collections import deque\n",
        "import matplotlib.pyplot as plt\n",
        "\n",
        "import warnings\n",
        "warnings.filterwarnings(\"ignore\")"
      ]
    },
    {
      "cell_type": "markdown",
      "metadata": {
        "id": "tcmZHZ5oazus"
      },
      "source": [
        "\n",
        "\n",
        "---\n",
        "\n"
      ]
    },
    {
      "cell_type": "markdown",
      "metadata": {
        "id": "nRwRMsrdZ7xW"
      },
      "source": [
        "## 1. DQN Implemetation"
      ]
    },
    {
      "cell_type": "code",
      "execution_count": 3,
      "metadata": {
        "id": "gFqviUpRWEUx"
      },
      "outputs": [],
      "source": [
        "class QNetwork(nn.Module):\n",
        "    def __init__(self, state_dim, action_dim):\n",
        "        super(QNetwork, self).__init__()\n",
        "        # Define a single hidden layer network\n",
        "        self.fc1 = nn.Linear(state_dim, 128)  # First fully connected layer\n",
        "        self.fc2 = nn.Linear(128, action_dim)  # Output layer\n",
        "\n",
        "    def forward(self, s):\n",
        "        # Pass the input through the layers with ReLU activation\n",
        "        x = torch.relu(self.fc1(s))\n",
        "        q = self.fc2(x)  # Output layer without activation\n",
        "        return q"
      ]
    },
    {
      "cell_type": "code",
      "execution_count": 4,
      "metadata": {
        "id": "fZiCFDBwWKmR"
      },
      "outputs": [],
      "source": [
        "class DQNAgent:\n",
        "    def __init__(self, state_size, action_size, device):\n",
        "        self.state_size = state_size\n",
        "        self.action_size = action_size\n",
        "        self.device = device\n",
        "\n",
        "        # Do not modify these hyper-parameters\n",
        "        self.Epochs = 1000\n",
        "        self.discount_factor = 0.98\n",
        "        self.learning_rate = 0.001\n",
        "        self.epsilon = 1.0\n",
        "        self.epsilon_min = 0.001\n",
        "        self.batch_size = 256\n",
        "        self.train_start = self.batch_size * 5\n",
        "        self.memory = deque(maxlen=100000)\n",
        "\n",
        "        # You can modify this depending on environments.\n",
        "        self.epsilon_decay_rate = 0.995\n",
        "\n",
        "        # Define and initialize your networks and optimizer\n",
        "        self.q_network = QNetwork(state_size, action_size).to(device)\n",
        "        self.target_network = QNetwork(state_size, action_size).to(device)\n",
        "        self.optimizer = optim.Adam(self.q_network.parameters(), lr=self.learning_rate)\n",
        "\n",
        "        self.update_target_network()\n",
        "\n",
        "    def update_target_network(self):\n",
        "        self.target_network.load_state_dict(self.q_network.state_dict())\n",
        "\n",
        "    def get_action(self, state, use_epsilon_greedy=True):\n",
        "        if use_epsilon_greedy and np.random.rand() <= self.epsilon:\n",
        "            return random.randrange(self.action_size)\n",
        "        else:\n",
        "            state = torch.FloatTensor(state).unsqueeze(0).to(self.device)\n",
        "            q_values = self.q_network(state)\n",
        "            return torch.argmax(q_values).item()\n",
        "\n",
        "    def append_sample(self, state, action, reward, next_state, done):\n",
        "        self.memory.append((state, action, reward, next_state, done))\n",
        "\n",
        "    def get_samples(self, n):\n",
        "        samples = random.sample(self.memory, n)\n",
        "        states, actions, rewards, next_states, dones = zip(*samples)\n",
        "\n",
        "        states = torch.FloatTensor(states).to(self.device)\n",
        "        actions = torch.LongTensor(actions).to(self.device)\n",
        "        rewards = torch.FloatTensor(rewards).to(self.device)\n",
        "        next_states = torch.FloatTensor(next_states).to(self.device)\n",
        "        dones = torch.FloatTensor(dones).to(self.device)\n",
        "\n",
        "        return states, actions, rewards, next_states, dones\n",
        "\n",
        "    def epsilon_decay(self):\n",
        "        if self.epsilon > self.epsilon_min:\n",
        "            self.epsilon *= self.epsilon_decay_rate\n",
        "\n",
        "    def train(self):\n",
        "        if len(self.memory) < self.train_start:\n",
        "            return None\n",
        "\n",
        "        s_batch, a_batch, r_batch, s_next_batch, done_batch = self.get_samples(self.batch_size)\n",
        "\n",
        "        q_values = self.q_network(s_batch).gather(1, a_batch.unsqueeze(1)).squeeze(1)\n",
        "        next_q_values = self.target_network(s_next_batch).max(1)[0]\n",
        "        target_q_values = r_batch + (self.discount_factor * next_q_values * (1 - done_batch))\n",
        "\n",
        "        loss = nn.MSELoss()(q_values, target_q_values.detach())\n",
        "\n",
        "        self.optimizer.zero_grad()\n",
        "        loss.backward()\n",
        "        self.optimizer.step()\n",
        "\n",
        "        self.epsilon_decay()\n",
        "\n",
        "        return loss.item()"
      ]
    },
    {
      "cell_type": "code",
      "execution_count": 5,
      "metadata": {
        "id": "WRSX1bPeILPu"
      },
      "outputs": [],
      "source": [
        "# Do not modify this cell\n",
        "def evaluation(env, agent):\n",
        "    done, episode_score, episode_steps = False, 0.0, 0\n",
        "\n",
        "    state, _ = env.reset()\n",
        "    for t in range(env._max_episode_steps):\n",
        "        action = agent.get_action(state, use_epsilon_greedy=False)\n",
        "        state_next, reward, done, time_truncation, _ = env.step(action)\n",
        "\n",
        "        episode_score += reward\n",
        "        episode_steps += 1\n",
        "\n",
        "        state = state_next\n",
        "        if done:\n",
        "            break\n",
        "\n",
        "    return episode_score, episode_steps\n"
      ]
    },
    {
      "cell_type": "code",
      "execution_count": 6,
      "metadata": {
        "id": "iGps4pJ-R1Vi"
      },
      "outputs": [],
      "source": [
        "# experiments envs : \"CartPole-v1\", \"Acrobot-v1\", \"MountainCar-v0\"\n",
        "\n",
        "env_name          = \"MountainCar-v0\""
      ]
    },
    {
      "cell_type": "code",
      "execution_count": 7,
      "metadata": {
        "collapsed": true,
        "id": "PCkudfR1XPDL"
      },
      "outputs": [
        {
          "name": "stdout",
          "output_type": "stream",
          "text": [
            "state_size:2, action_size:3, max_episode_steps:200, device:cuda \n",
            "\n",
            "Epoch:0, Episode_score:-200.0, Episode_steps:200, epsilon:0.995\n",
            "Epoch:10, Episode_score:-200.0, Episode_steps:200, epsilon:0.009356453315889223\n",
            "Epoch:20, Episode_score:-200.0, Episode_steps:200, epsilon:0.0009954703940636294\n",
            "Epoch:30, Episode_score:-200.0, Episode_steps:200, epsilon:0.0009954703940636294\n",
            "Epoch:40, Episode_score:-200.0, Episode_steps:200, epsilon:0.0009954703940636294\n",
            "Epoch:50, Episode_score:-200.0, Episode_steps:200, epsilon:0.0009954703940636294\n",
            "Epoch:60, Episode_score:-200.0, Episode_steps:200, epsilon:0.0009954703940636294\n",
            "Epoch:70, Episode_score:-200.0, Episode_steps:200, epsilon:0.0009954703940636294\n",
            "Epoch:80, Episode_score:-200.0, Episode_steps:200, epsilon:0.0009954703940636294\n",
            "Epoch:90, Episode_score:-200.0, Episode_steps:200, epsilon:0.0009954703940636294\n",
            "Epoch:100, Episode_score:-200.0, Episode_steps:200, epsilon:0.0009954703940636294\n",
            "Epoch:110, Episode_score:-200.0, Episode_steps:200, epsilon:0.0009954703940636294\n",
            "Epoch:120, Episode_score:-200.0, Episode_steps:200, epsilon:0.0009954703940636294\n",
            "Epoch:130, Episode_score:-200.0, Episode_steps:200, epsilon:0.0009954703940636294\n",
            "Epoch:140, Episode_score:-200.0, Episode_steps:200, epsilon:0.0009954703940636294\n",
            "Epoch:150, Episode_score:-200.0, Episode_steps:200, epsilon:0.0009954703940636294\n",
            "Epoch:160, Episode_score:-200.0, Episode_steps:200, epsilon:0.0009954703940636294\n",
            "Epoch:170, Episode_score:-200.0, Episode_steps:200, epsilon:0.0009954703940636294\n",
            "Epoch:180, Episode_score:-200.0, Episode_steps:200, epsilon:0.0009954703940636294\n",
            "Epoch:190, Episode_score:-200.0, Episode_steps:200, epsilon:0.0009954703940636294\n",
            "Epoch:200, Episode_score:-126.0, Episode_steps:126, epsilon:0.0009954703940636294\n",
            "Epoch:210, Episode_score:-200.0, Episode_steps:200, epsilon:0.0009954703940636294\n",
            "Epoch:220, Episode_score:-200.0, Episode_steps:200, epsilon:0.0009954703940636294\n",
            "Epoch:230, Episode_score:-180.0, Episode_steps:180, epsilon:0.0009954703940636294\n",
            "Epoch:240, Episode_score:-200.0, Episode_steps:200, epsilon:0.0009954703940636294\n",
            "Epoch:250, Episode_score:-200.0, Episode_steps:200, epsilon:0.0009954703940636294\n",
            "Epoch:260, Episode_score:-200.0, Episode_steps:200, epsilon:0.0009954703940636294\n",
            "Epoch:270, Episode_score:-200.0, Episode_steps:200, epsilon:0.0009954703940636294\n",
            "Epoch:280, Episode_score:-183.0, Episode_steps:183, epsilon:0.0009954703940636294\n",
            "Epoch:290, Episode_score:-148.0, Episode_steps:148, epsilon:0.0009954703940636294\n",
            "Epoch:300, Episode_score:-113.0, Episode_steps:113, epsilon:0.0009954703940636294\n",
            "Epoch:310, Episode_score:-145.0, Episode_steps:145, epsilon:0.0009954703940636294\n",
            "Epoch:320, Episode_score:-92.0, Episode_steps:92, epsilon:0.0009954703940636294\n",
            "Epoch:330, Episode_score:-94.0, Episode_steps:94, epsilon:0.0009954703940636294\n",
            "Epoch:340, Episode_score:-115.0, Episode_steps:115, epsilon:0.0009954703940636294\n",
            "Epoch:350, Episode_score:-168.0, Episode_steps:168, epsilon:0.0009954703940636294\n",
            "Epoch:360, Episode_score:-170.0, Episode_steps:170, epsilon:0.0009954703940636294\n",
            "Epoch:370, Episode_score:-178.0, Episode_steps:178, epsilon:0.0009954703940636294\n",
            "Epoch:380, Episode_score:-174.0, Episode_steps:174, epsilon:0.0009954703940636294\n",
            "Epoch:390, Episode_score:-200.0, Episode_steps:200, epsilon:0.0009954703940636294\n",
            "Epoch:400, Episode_score:-165.0, Episode_steps:165, epsilon:0.0009954703940636294\n",
            "Epoch:410, Episode_score:-167.0, Episode_steps:167, epsilon:0.0009954703940636294\n",
            "Epoch:420, Episode_score:-117.0, Episode_steps:117, epsilon:0.0009954703940636294\n",
            "Epoch:430, Episode_score:-200.0, Episode_steps:200, epsilon:0.0009954703940636294\n",
            "Epoch:440, Episode_score:-137.0, Episode_steps:137, epsilon:0.0009954703940636294\n",
            "Epoch:450, Episode_score:-162.0, Episode_steps:162, epsilon:0.0009954703940636294\n",
            "Epoch:460, Episode_score:-161.0, Episode_steps:161, epsilon:0.0009954703940636294\n",
            "Epoch:470, Episode_score:-155.0, Episode_steps:155, epsilon:0.0009954703940636294\n",
            "Epoch:480, Episode_score:-157.0, Episode_steps:157, epsilon:0.0009954703940636294\n",
            "Epoch:490, Episode_score:-150.0, Episode_steps:150, epsilon:0.0009954703940636294\n",
            "Epoch:500, Episode_score:-151.0, Episode_steps:151, epsilon:0.0009954703940636294\n",
            "Epoch:510, Episode_score:-112.0, Episode_steps:112, epsilon:0.0009954703940636294\n",
            "Epoch:520, Episode_score:-105.0, Episode_steps:105, epsilon:0.0009954703940636294\n",
            "Epoch:530, Episode_score:-200.0, Episode_steps:200, epsilon:0.0009954703940636294\n",
            "Epoch:540, Episode_score:-200.0, Episode_steps:200, epsilon:0.0009954703940636294\n",
            "Epoch:550, Episode_score:-200.0, Episode_steps:200, epsilon:0.0009954703940636294\n",
            "Epoch:560, Episode_score:-200.0, Episode_steps:200, epsilon:0.0009954703940636294\n",
            "Epoch:570, Episode_score:-151.0, Episode_steps:151, epsilon:0.0009954703940636294\n",
            "Epoch:580, Episode_score:-147.0, Episode_steps:147, epsilon:0.0009954703940636294\n",
            "Epoch:590, Episode_score:-146.0, Episode_steps:146, epsilon:0.0009954703940636294\n",
            "Epoch:600, Episode_score:-89.0, Episode_steps:89, epsilon:0.0009954703940636294\n",
            "Epoch:610, Episode_score:-200.0, Episode_steps:200, epsilon:0.0009954703940636294\n",
            "Epoch:620, Episode_score:-156.0, Episode_steps:156, epsilon:0.0009954703940636294\n",
            "Epoch:630, Episode_score:-155.0, Episode_steps:155, epsilon:0.0009954703940636294\n",
            "Epoch:640, Episode_score:-156.0, Episode_steps:156, epsilon:0.0009954703940636294\n",
            "Epoch:650, Episode_score:-87.0, Episode_steps:87, epsilon:0.0009954703940636294\n",
            "Epoch:660, Episode_score:-94.0, Episode_steps:94, epsilon:0.0009954703940636294\n",
            "Epoch:670, Episode_score:-200.0, Episode_steps:200, epsilon:0.0009954703940636294\n",
            "Epoch:680, Episode_score:-133.0, Episode_steps:133, epsilon:0.0009954703940636294\n",
            "Epoch:690, Episode_score:-140.0, Episode_steps:140, epsilon:0.0009954703940636294\n",
            "Epoch:700, Episode_score:-132.0, Episode_steps:132, epsilon:0.0009954703940636294\n",
            "Epoch:710, Episode_score:-200.0, Episode_steps:200, epsilon:0.0009954703940636294\n",
            "Epoch:720, Episode_score:-200.0, Episode_steps:200, epsilon:0.0009954703940636294\n",
            "Epoch:730, Episode_score:-200.0, Episode_steps:200, epsilon:0.0009954703940636294\n",
            "Epoch:740, Episode_score:-200.0, Episode_steps:200, epsilon:0.0009954703940636294\n",
            "Epoch:750, Episode_score:-130.0, Episode_steps:130, epsilon:0.0009954703940636294\n",
            "Epoch:760, Episode_score:-128.0, Episode_steps:128, epsilon:0.0009954703940636294\n",
            "Epoch:770, Episode_score:-200.0, Episode_steps:200, epsilon:0.0009954703940636294\n",
            "Epoch:780, Episode_score:-87.0, Episode_steps:87, epsilon:0.0009954703940636294\n",
            "Epoch:790, Episode_score:-171.0, Episode_steps:171, epsilon:0.0009954703940636294\n",
            "Epoch:800, Episode_score:-176.0, Episode_steps:176, epsilon:0.0009954703940636294\n",
            "Epoch:810, Episode_score:-150.0, Episode_steps:150, epsilon:0.0009954703940636294\n",
            "Epoch:820, Episode_score:-200.0, Episode_steps:200, epsilon:0.0009954703940636294\n",
            "Epoch:830, Episode_score:-98.0, Episode_steps:98, epsilon:0.0009954703940636294\n",
            "Epoch:840, Episode_score:-155.0, Episode_steps:155, epsilon:0.0009954703940636294\n",
            "Epoch:850, Episode_score:-200.0, Episode_steps:200, epsilon:0.0009954703940636294\n",
            "Epoch:860, Episode_score:-95.0, Episode_steps:95, epsilon:0.0009954703940636294\n",
            "Epoch:870, Episode_score:-126.0, Episode_steps:126, epsilon:0.0009954703940636294\n",
            "Epoch:880, Episode_score:-149.0, Episode_steps:149, epsilon:0.0009954703940636294\n",
            "Epoch:890, Episode_score:-97.0, Episode_steps:97, epsilon:0.0009954703940636294\n",
            "Epoch:900, Episode_score:-108.0, Episode_steps:108, epsilon:0.0009954703940636294\n",
            "Epoch:910, Episode_score:-132.0, Episode_steps:132, epsilon:0.0009954703940636294\n",
            "Epoch:920, Episode_score:-154.0, Episode_steps:154, epsilon:0.0009954703940636294\n",
            "Epoch:930, Episode_score:-164.0, Episode_steps:164, epsilon:0.0009954703940636294\n",
            "Epoch:940, Episode_score:-194.0, Episode_steps:194, epsilon:0.0009954703940636294\n",
            "Epoch:950, Episode_score:-150.0, Episode_steps:150, epsilon:0.0009954703940636294\n",
            "Epoch:960, Episode_score:-109.0, Episode_steps:109, epsilon:0.0009954703940636294\n",
            "Epoch:970, Episode_score:-107.0, Episode_steps:107, epsilon:0.0009954703940636294\n",
            "Epoch:980, Episode_score:-200.0, Episode_steps:200, epsilon:0.0009954703940636294\n",
            "Epoch:990, Episode_score:-191.0, Episode_steps:191, epsilon:0.0009954703940636294\n"
          ]
        }
      ],
      "source": [
        "# Do not modify this cell\n",
        "\n",
        "env               = gym.make(env_name)\n",
        "state_size        = env.observation_space.shape[0]\n",
        "action_size       = env.action_space.n\n",
        "max_episode_steps = env._max_episode_steps\n",
        "device            = torch.device('cuda' if torch.cuda.is_available() else 'cpu')\n",
        "\n",
        "print(\"state_size:{}, action_size:{}, max_episode_steps:{}, device:{} \\n\".format(state_size, action_size, max_episode_steps, device))\n",
        "\n",
        "agent = DQNAgent(state_size, action_size, device)\n",
        "\n",
        "\n",
        "\n",
        "episode_scores_list, episode_steps_list = [], []\n",
        "for epoch in range(agent.Epochs):  # agent.Epochs = 1000\n",
        "\n",
        "    state, _ = env.reset()\n",
        "    for t in range(max_episode_steps):\n",
        "        action = agent.get_action(state)\n",
        "        state_next, reward, done, time_truncation, _ = env.step(action)\n",
        "\n",
        "        agent.append_sample(state, action, reward, state_next, done)\n",
        "\n",
        "        if len(agent.memory) >= agent.train_start:\n",
        "            agent.train()\n",
        "\n",
        "        state = state_next\n",
        "        if done:\n",
        "            state, _ = env.reset()\n",
        "\n",
        "    agent.update_target_network()\n",
        "    agent.epsilon_decay()\n",
        "\n",
        "    episode_score, episode_steps = evaluation(env, agent)\n",
        "    episode_scores_list.append(episode_score)\n",
        "    episode_steps_list.append(episode_steps)\n",
        "\n",
        "    if epoch % 10 == 0:\n",
        "        print(\"Epoch:{}, Episode_score:{}, Episode_steps:{}, epsilon:{}\".format(epoch, episode_score, episode_steps, agent.epsilon))\n",
        "\n"
      ]
    },
    {
      "cell_type": "code",
      "execution_count": 8,
      "metadata": {
        "id": "OLmlHNfySvlC"
      },
      "outputs": [
        {
          "data": {
            "image/png": "[encoded data removed]",
            "text/plain": [
              "<Figure size 800x300 with 2 Axes>"
            ]
          },
          "metadata": {},
          "output_type": "display_data"
        }
      ],
      "source": [
        "# This cell provides basic evaluation score graph. You can add more plots.\n",
        "\n",
        "plt.figure(figsize=(8, 3))\n",
        "\n",
        "plt.subplot(1,2,1)\n",
        "plt.plot(episode_scores_list)\n",
        "plt.xlabel(\"Epochs\")\n",
        "plt.ylabel(\"Episode Scores\")\n",
        "plt.title(\"Episode Scores of {}\".format(env_name))\n",
        "\n",
        "plt.subplot(1,2,2)\n",
        "plt.plot(episode_steps_list)\n",
        "plt.xlabel(\"Epochs\")\n",
        "plt.ylabel(\"Episode Steps\")\n",
        "plt.title(\"Episode Steps of {}\".format(env_name))\n",
        "\n",
        "plt.show()"
      ]
    },
    {
      "cell_type": "markdown",
      "metadata": {
        "id": "HxfGlM7WaxSt"
      },
      "source": [
        "\n",
        "\n",
        "---\n",
        "\n"
      ]
    },
    {
      "cell_type": "markdown",
      "metadata": {
        "id": "FSbN7TChaDwF"
      },
      "source": [
        "## 2. Double DQN implemantation"
      ]
    },
    {
      "cell_type": "code",
      "execution_count": 9,
      "metadata": {
        "id": "ZOSfIAoMa7Y0"
      },
      "outputs": [],
      "source": [
        "class QNetwork(nn.Module):\n",
        "    def __init__(self, state_dim, action_dim):\n",
        "        super(QNetwork, self).__init__()\n",
        "        # Define a single hidden layer network\n",
        "        self.fc1 = nn.Linear(state_dim, 128)  # First fully connected layer\n",
        "        self.fc2 = nn.Linear(128, action_dim)  # Output layer\n",
        "\n",
        "    def forward(self, s):\n",
        "        # Pass the input through the layers with ReLU activation\n",
        "        x = torch.relu(self.fc1(s))\n",
        "        q = self.fc2(x)  # Output layer without activation\n",
        "        return q"
      ]
    },
    {
      "cell_type": "code",
      "execution_count": 10,
      "metadata": {
        "id": "wHP4E72fCmN9"
      },
      "outputs": [],
      "source": [
        "class DoubleDQNAgent:\n",
        "    def __init__(self, state_size, action_size, device):\n",
        "        self.state_size         = state_size\n",
        "        self.action_size        = action_size\n",
        "        self.device             = device\n",
        "\n",
        "        # Do not modify these hyper-parameters\n",
        "        self.Epochs             = 1000\n",
        "        self.discount_factor    = 0.98\n",
        "        self.learning_rate      = 0.001  # learning rate for q function\n",
        "        self.epsilon            = 1.0    # initial epsilon value\n",
        "        self.epsilon_min        = 0.001  # minimum epsilon value\n",
        "        self.batch_size         = 256\n",
        "        self.train_start        = self.batch_size * 5\n",
        "        self.memory             = deque(maxlen=100000)  # replay memory\n",
        "\n",
        "        # You can modify this depending on environments.\n",
        "        self.epsilon_decay_rate = 0.995   # decay rate\n",
        "\n",
        "        # Define and initialize your networks and optimizer\n",
        "        self.q_network = QNetwork(state_size, action_size).to(self.device)\n",
        "        self.target_network = QNetwork(state_size, action_size).to(self.device)\n",
        "        self.optimizer = optim.Adam(self.q_network.parameters(), lr=self.learning_rate)\n",
        "        self.update_target_network()\n",
        "\n",
        "\n",
        "    def update_target_network(self):\n",
        "        # implement target Q network update function\n",
        "        self.target_network.load_state_dict(self.q_network.state_dict())\n",
        "\n",
        "\n",
        "    def get_action(self, state, use_epsilon_greedy=True):\n",
        "        if use_epsilon_greedy:\n",
        "            if np.random.rand() <= self.epsilon:\n",
        "                return random.randrange(self.action_size)\n",
        "            else:\n",
        "                state = torch.FloatTensor(state).unsqueeze(0).to(self.device)\n",
        "                q_values = self.q_network(state)\n",
        "                return np.argmax(q_values.cpu().data.numpy())\n",
        "        else:\n",
        "            state = torch.FloatTensor(state).unsqueeze(0).to(self.device)\n",
        "            q_values = self.q_network(state)\n",
        "            return np.argmax(q_values.cpu().data.numpy())\n",
        "\n",
        "    def append_sample(self, state, action, reward, next_state, done):\n",
        "        # implement storing function given (s,a,r,s',done) into the replay memory.\n",
        "        self.memory.append((state, action, reward, next_state, done))\n",
        "        \n",
        "    def get_samples(self, n):\n",
        "        # implement transition random sampling function from the replay memory,\n",
        "        # and make the transiton to batch.\n",
        "        minibatch = random.sample(self.memory, n)\n",
        "        s_batch = np.array([sample[0] for sample in minibatch])\n",
        "        a_batch = np.array([sample[1] for sample in minibatch])\n",
        "        r_batch = np.array([sample[2] for sample in minibatch])\n",
        "        s_next_batch = np.array([sample[3] for sample in minibatch])\n",
        "        done_batch = np.array([sample[4] for sample in minibatch])\n",
        "        # i.e.) s_batch : (batch_size, state_dim)\n",
        "        \n",
        "        return s_batch, a_batch, r_batch, s_next_batch, done_batch\n",
        "        \n",
        "\n",
        "    def epsilon_decay(self):\n",
        "        # implement epsilon decaying function that\n",
        "        if self.epsilon > self.epsilon_min:\n",
        "            self.epsilon *= self.epsilon_decay_rate\n",
        "            \n",
        "    def train(self):\n",
        "        if len(self.memory) < self.train_start:\n",
        "            return None\n",
        "\n",
        "        s_batch, a_batch, r_batch, s_next_batch, done_batch = self.get_samples(self.batch_size)\n",
        "\n",
        "        s_batch = torch.FloatTensor(s_batch).to(self.device)\n",
        "        a_batch = torch.LongTensor(a_batch).unsqueeze(1).to(self.device)\n",
        "        r_batch = torch.FloatTensor(r_batch).to(self.device)\n",
        "        s_next_batch = torch.FloatTensor(s_next_batch).to(self.device)\n",
        "        done_batch = torch.FloatTensor(done_batch).to(self.device)\n",
        "\n",
        "        # Current Q values\n",
        "        q_values = self.q_network(s_batch).gather(1, a_batch).squeeze(1)\n",
        "\n",
        "        # Next Q values using Double DQN\n",
        "        next_actions = self.q_network(s_next_batch).max(1)[1].unsqueeze(1)\n",
        "        next_q_values = self.target_network(s_next_batch).gather(1, next_actions).squeeze(1)\n",
        "        \n",
        "        # Target Q values\n",
        "        target_q_values = r_batch + (self.discount_factor * next_q_values * (1 - done_batch))\n",
        "\n",
        "        # Loss\n",
        "        loss = nn.MSELoss()(q_values, target_q_values.detach())\n",
        "\n",
        "        # Optimize the model\n",
        "        self.optimizer.zero_grad()\n",
        "        loss.backward()\n",
        "        self.optimizer.step()\n",
        "\n",
        "        self.epsilon_decay()\n",
        "\n",
        "        # Optionally return statistics\n",
        "        return loss.item()\n",
        "\n"
      ]
    },
    {
      "cell_type": "code",
      "execution_count": 11,
      "metadata": {
        "id": "gAgh33TCDA2h"
      },
      "outputs": [],
      "source": [
        "# Do not modify this cell\n",
        "def evaluation(env, agent):\n",
        "    done, episode_score, episode_steps = False, 0.0, 0\n",
        "\n",
        "    state, _ = env.reset()\n",
        "    for t in range(env._max_episode_steps):\n",
        "        action = agent.get_action(state, use_epsilon_greedy=False)\n",
        "        state_next, reward, done, time_truncation, _ = env.step(action)\n",
        "\n",
        "        episode_score += reward\n",
        "        episode_steps += 1\n",
        "\n",
        "        state = state_next\n",
        "        if done:\n",
        "            break\n",
        "\n",
        "    return episode_score, episode_steps\n"
      ]
    },
    {
      "cell_type": "code",
      "execution_count": 12,
      "metadata": {
        "id": "sb-x88JXDFOj"
      },
      "outputs": [],
      "source": [
        "# experiments envs : \"CartPole-v1\", \"Acrobot-v1\", \"MountainCar-v0\"\n",
        "\n",
        "env_name          = \"MountainCar-v0\""
      ]
    },
    {
      "cell_type": "code",
      "execution_count": 13,
      "metadata": {
        "id": "MaoxqTozDHzQ"
      },
      "outputs": [
        {
          "name": "stdout",
          "output_type": "stream",
          "text": [
            "state_size:2, action_size:3, max_episode_steps:200, device:cuda \n",
            "\n",
            "Epoch:0, Episode_score:-200.0, Episode_steps:200, epsilon:0.995\n",
            "Epoch:10, Episode_score:-200.0, Episode_steps:200, epsilon:0.009356453315889223\n",
            "Epoch:20, Episode_score:-200.0, Episode_steps:200, epsilon:0.0009954703940636294\n",
            "Epoch:30, Episode_score:-200.0, Episode_steps:200, epsilon:0.0009954703940636294\n",
            "Epoch:40, Episode_score:-200.0, Episode_steps:200, epsilon:0.0009954703940636294\n",
            "Epoch:50, Episode_score:-200.0, Episode_steps:200, epsilon:0.0009954703940636294\n",
            "Epoch:60, Episode_score:-200.0, Episode_steps:200, epsilon:0.0009954703940636294\n",
            "Epoch:70, Episode_score:-200.0, Episode_steps:200, epsilon:0.0009954703940636294\n",
            "Epoch:80, Episode_score:-200.0, Episode_steps:200, epsilon:0.0009954703940636294\n",
            "Epoch:90, Episode_score:-200.0, Episode_steps:200, epsilon:0.0009954703940636294\n",
            "Epoch:100, Episode_score:-200.0, Episode_steps:200, epsilon:0.0009954703940636294\n",
            "Epoch:110, Episode_score:-200.0, Episode_steps:200, epsilon:0.0009954703940636294\n",
            "Epoch:120, Episode_score:-180.0, Episode_steps:180, epsilon:0.0009954703940636294\n",
            "Epoch:130, Episode_score:-140.0, Episode_steps:140, epsilon:0.0009954703940636294\n",
            "Epoch:140, Episode_score:-146.0, Episode_steps:146, epsilon:0.0009954703940636294\n",
            "Epoch:150, Episode_score:-200.0, Episode_steps:200, epsilon:0.0009954703940636294\n",
            "Epoch:160, Episode_score:-200.0, Episode_steps:200, epsilon:0.0009954703940636294\n",
            "Epoch:170, Episode_score:-191.0, Episode_steps:191, epsilon:0.0009954703940636294\n",
            "Epoch:180, Episode_score:-139.0, Episode_steps:139, epsilon:0.0009954703940636294\n",
            "Epoch:190, Episode_score:-200.0, Episode_steps:200, epsilon:0.0009954703940636294\n",
            "Epoch:200, Episode_score:-200.0, Episode_steps:200, epsilon:0.0009954703940636294\n",
            "Epoch:210, Episode_score:-200.0, Episode_steps:200, epsilon:0.0009954703940636294\n",
            "Epoch:220, Episode_score:-200.0, Episode_steps:200, epsilon:0.0009954703940636294\n",
            "Epoch:230, Episode_score:-165.0, Episode_steps:165, epsilon:0.0009954703940636294\n",
            "Epoch:240, Episode_score:-173.0, Episode_steps:173, epsilon:0.0009954703940636294\n",
            "Epoch:250, Episode_score:-200.0, Episode_steps:200, epsilon:0.0009954703940636294\n",
            "Epoch:260, Episode_score:-200.0, Episode_steps:200, epsilon:0.0009954703940636294\n",
            "Epoch:270, Episode_score:-200.0, Episode_steps:200, epsilon:0.0009954703940636294\n",
            "Epoch:280, Episode_score:-101.0, Episode_steps:101, epsilon:0.0009954703940636294\n",
            "Epoch:290, Episode_score:-161.0, Episode_steps:161, epsilon:0.0009954703940636294\n",
            "Epoch:300, Episode_score:-155.0, Episode_steps:155, epsilon:0.0009954703940636294\n",
            "Epoch:310, Episode_score:-89.0, Episode_steps:89, epsilon:0.0009954703940636294\n",
            "Epoch:320, Episode_score:-177.0, Episode_steps:177, epsilon:0.0009954703940636294\n",
            "Epoch:330, Episode_score:-148.0, Episode_steps:148, epsilon:0.0009954703940636294\n",
            "Epoch:340, Episode_score:-109.0, Episode_steps:109, epsilon:0.0009954703940636294\n",
            "Epoch:350, Episode_score:-84.0, Episode_steps:84, epsilon:0.0009954703940636294\n",
            "Epoch:360, Episode_score:-85.0, Episode_steps:85, epsilon:0.0009954703940636294\n",
            "Epoch:370, Episode_score:-183.0, Episode_steps:183, epsilon:0.0009954703940636294\n",
            "Epoch:380, Episode_score:-145.0, Episode_steps:145, epsilon:0.0009954703940636294\n",
            "Epoch:390, Episode_score:-138.0, Episode_steps:138, epsilon:0.0009954703940636294\n",
            "Epoch:400, Episode_score:-87.0, Episode_steps:87, epsilon:0.0009954703940636294\n",
            "Epoch:410, Episode_score:-89.0, Episode_steps:89, epsilon:0.0009954703940636294\n",
            "Epoch:420, Episode_score:-151.0, Episode_steps:151, epsilon:0.0009954703940636294\n",
            "Epoch:430, Episode_score:-147.0, Episode_steps:147, epsilon:0.0009954703940636294\n",
            "Epoch:440, Episode_score:-91.0, Episode_steps:91, epsilon:0.0009954703940636294\n",
            "Epoch:450, Episode_score:-143.0, Episode_steps:143, epsilon:0.0009954703940636294\n",
            "Epoch:460, Episode_score:-154.0, Episode_steps:154, epsilon:0.0009954703940636294\n",
            "Epoch:470, Episode_score:-152.0, Episode_steps:152, epsilon:0.0009954703940636294\n",
            "Epoch:480, Episode_score:-151.0, Episode_steps:151, epsilon:0.0009954703940636294\n",
            "Epoch:490, Episode_score:-92.0, Episode_steps:92, epsilon:0.0009954703940636294\n",
            "Epoch:500, Episode_score:-150.0, Episode_steps:150, epsilon:0.0009954703940636294\n",
            "Epoch:510, Episode_score:-88.0, Episode_steps:88, epsilon:0.0009954703940636294\n",
            "Epoch:520, Episode_score:-141.0, Episode_steps:141, epsilon:0.0009954703940636294\n",
            "Epoch:530, Episode_score:-145.0, Episode_steps:145, epsilon:0.0009954703940636294\n",
            "Epoch:540, Episode_score:-200.0, Episode_steps:200, epsilon:0.0009954703940636294\n",
            "Epoch:550, Episode_score:-87.0, Episode_steps:87, epsilon:0.0009954703940636294\n",
            "Epoch:560, Episode_score:-162.0, Episode_steps:162, epsilon:0.0009954703940636294\n",
            "Epoch:570, Episode_score:-200.0, Episode_steps:200, epsilon:0.0009954703940636294\n",
            "Epoch:580, Episode_score:-91.0, Episode_steps:91, epsilon:0.0009954703940636294\n",
            "Epoch:590, Episode_score:-145.0, Episode_steps:145, epsilon:0.0009954703940636294\n",
            "Epoch:600, Episode_score:-200.0, Episode_steps:200, epsilon:0.0009954703940636294\n",
            "Epoch:610, Episode_score:-134.0, Episode_steps:134, epsilon:0.0009954703940636294\n",
            "Epoch:620, Episode_score:-149.0, Episode_steps:149, epsilon:0.0009954703940636294\n",
            "Epoch:630, Episode_score:-114.0, Episode_steps:114, epsilon:0.0009954703940636294\n",
            "Epoch:640, Episode_score:-147.0, Episode_steps:147, epsilon:0.0009954703940636294\n",
            "Epoch:650, Episode_score:-89.0, Episode_steps:89, epsilon:0.0009954703940636294\n",
            "Epoch:660, Episode_score:-136.0, Episode_steps:136, epsilon:0.0009954703940636294\n",
            "Epoch:670, Episode_score:-134.0, Episode_steps:134, epsilon:0.0009954703940636294\n",
            "Epoch:680, Episode_score:-131.0, Episode_steps:131, epsilon:0.0009954703940636294\n",
            "Epoch:690, Episode_score:-130.0, Episode_steps:130, epsilon:0.0009954703940636294\n",
            "Epoch:700, Episode_score:-200.0, Episode_steps:200, epsilon:0.0009954703940636294\n",
            "Epoch:710, Episode_score:-140.0, Episode_steps:140, epsilon:0.0009954703940636294\n",
            "Epoch:720, Episode_score:-101.0, Episode_steps:101, epsilon:0.0009954703940636294\n",
            "Epoch:730, Episode_score:-86.0, Episode_steps:86, epsilon:0.0009954703940636294\n",
            "Epoch:740, Episode_score:-154.0, Episode_steps:154, epsilon:0.0009954703940636294\n",
            "Epoch:750, Episode_score:-163.0, Episode_steps:163, epsilon:0.0009954703940636294\n",
            "Epoch:760, Episode_score:-89.0, Episode_steps:89, epsilon:0.0009954703940636294\n",
            "Epoch:770, Episode_score:-133.0, Episode_steps:133, epsilon:0.0009954703940636294\n",
            "Epoch:780, Episode_score:-147.0, Episode_steps:147, epsilon:0.0009954703940636294\n",
            "Epoch:790, Episode_score:-144.0, Episode_steps:144, epsilon:0.0009954703940636294\n",
            "Epoch:800, Episode_score:-200.0, Episode_steps:200, epsilon:0.0009954703940636294\n",
            "Epoch:810, Episode_score:-200.0, Episode_steps:200, epsilon:0.0009954703940636294\n",
            "Epoch:820, Episode_score:-91.0, Episode_steps:91, epsilon:0.0009954703940636294\n",
            "Epoch:830, Episode_score:-147.0, Episode_steps:147, epsilon:0.0009954703940636294\n",
            "Epoch:840, Episode_score:-200.0, Episode_steps:200, epsilon:0.0009954703940636294\n",
            "Epoch:850, Episode_score:-88.0, Episode_steps:88, epsilon:0.0009954703940636294\n",
            "Epoch:860, Episode_score:-89.0, Episode_steps:89, epsilon:0.0009954703940636294\n",
            "Epoch:870, Episode_score:-183.0, Episode_steps:183, epsilon:0.0009954703940636294\n",
            "Epoch:880, Episode_score:-200.0, Episode_steps:200, epsilon:0.0009954703940636294\n",
            "Epoch:890, Episode_score:-112.0, Episode_steps:112, epsilon:0.0009954703940636294\n",
            "Epoch:900, Episode_score:-94.0, Episode_steps:94, epsilon:0.0009954703940636294\n",
            "Epoch:910, Episode_score:-200.0, Episode_steps:200, epsilon:0.0009954703940636294\n",
            "Epoch:920, Episode_score:-153.0, Episode_steps:153, epsilon:0.0009954703940636294\n",
            "Epoch:930, Episode_score:-191.0, Episode_steps:191, epsilon:0.0009954703940636294\n",
            "Epoch:940, Episode_score:-150.0, Episode_steps:150, epsilon:0.0009954703940636294\n",
            "Epoch:950, Episode_score:-150.0, Episode_steps:150, epsilon:0.0009954703940636294\n",
            "Epoch:960, Episode_score:-156.0, Episode_steps:156, epsilon:0.0009954703940636294\n",
            "Epoch:970, Episode_score:-149.0, Episode_steps:149, epsilon:0.0009954703940636294\n",
            "Epoch:980, Episode_score:-196.0, Episode_steps:196, epsilon:0.0009954703940636294\n",
            "Epoch:990, Episode_score:-151.0, Episode_steps:151, epsilon:0.0009954703940636294\n"
          ]
        }
      ],
      "source": [
        "# Do not modify this cell\n",
        "\n",
        "env               = gym.make(env_name)\n",
        "state_size        = env.observation_space.shape[0]\n",
        "action_size       = env.action_space.n\n",
        "max_episode_steps = env._max_episode_steps\n",
        "device            = torch.device('cuda' if torch.cuda.is_available() else 'cpu')\n",
        "\n",
        "print(\"state_size:{}, action_size:{}, max_episode_steps:{}, device:{} \\n\".format(state_size, action_size, max_episode_steps, device))\n",
        "\n",
        "agent = DoubleDQNAgent(state_size, action_size, device)\n",
        "\n",
        "\n",
        "\n",
        "episode_scores_list, episode_steps_list = [], []\n",
        "for epoch in range(agent.Epochs):  # agent.Epochs = 1000\n",
        "\n",
        "    state, _ = env.reset()\n",
        "    for t in range(max_episode_steps):\n",
        "        action = agent.get_action(state)\n",
        "        state_next, reward, done, time_truncation, _ = env.step(action)\n",
        "\n",
        "        agent.append_sample(state, action, reward, state_next, done)\n",
        "\n",
        "        if len(agent.memory) >= agent.train_start:\n",
        "            agent.train()\n",
        "\n",
        "        state = state_next\n",
        "        if done:\n",
        "            state, _ = env.reset()\n",
        "\n",
        "    agent.update_target_network()\n",
        "    agent.epsilon_decay()\n",
        "\n",
        "    episode_score, episode_steps = evaluation(env, agent)\n",
        "    episode_scores_list.append(episode_score)\n",
        "    episode_steps_list.append(episode_steps)\n",
        "\n",
        "    if epoch % 10 == 0:\n",
        "        print(\"Epoch:{}, Episode_score:{}, Episode_steps:{}, epsilon:{}\".format(epoch, episode_score, episode_steps, agent.epsilon))\n",
        "\n"
      ]
    },
    {
      "cell_type": "code",
      "execution_count": 14,
      "metadata": {
        "id": "L6tUwNL_DN-P"
      },
      "outputs": [
        {
          "data": {
            "image/png": "[encoded data removed]",
            "text/plain": [
              "<Figure size 800x300 with 2 Axes>"
            ]
          },
          "metadata": {},
          "output_type": "display_data"
        }
      ],
      "source": [
        "# This cell provides basic evaluation score graph. You can add more plots.\n",
        "\n",
        "plt.figure(figsize=(8, 3))\n",
        "\n",
        "plt.subplot(1,2,1)\n",
        "plt.plot(episode_scores_list)\n",
        "plt.xlabel(\"Epochs\")\n",
        "plt.ylabel(\"Episode Scores\")\n",
        "plt.title(\"Episode Scores of {}\".format(env_name))\n",
        "\n",
        "plt.subplot(1,2,2)\n",
        "plt.plot(episode_steps_list)\n",
        "plt.xlabel(\"Epochs\")\n",
        "plt.ylabel(\"Episode Steps\")\n",
        "plt.title(\"Episode Steps of {}\".format(env_name))\n",
        "\n",
        "plt.show()"
      ]
    },
    {
      "cell_type": "markdown",
      "metadata": {
        "id": "Q4NDsu7qa-oV"
      },
      "source": [
        "\n",
        "\n",
        "---\n",
        "\n"
      ]
    },
    {
      "cell_type": "markdown",
      "metadata": {
        "id": "jOCjHuyybArE"
      },
      "source": [
        "## 3. Additional Implementation"
      ]
    },
    {
      "cell_type": "code",
      "execution_count": null,
      "metadata": {
        "id": "dAoU9KWqbE4m"
      },
      "outputs": [],
      "source": [
        "# You can implement any RL algorithm that could increase performance, but experiment on the three environments."
      ]
    }
  ],
  "metadata": {
    "accelerator": "GPU",
    "colab": {
      "gpuType": "T4",
      "provenance": []
    },
    "kernelspec": {
      "display_name": "Python 3",
      "name": "python3"
    },
    "language_info": {
      "codemirror_mode": {
        "name": "ipython",
        "version": 3
      },
      "file_extension": ".py",
      "mimetype": "text/x-python",
      "name": "python",
      "nbconvert_exporter": "python",
      "pygments_lexer": "ipython3",
      "version": "3.8.10"
    }
  },
  "nbformat": 4,
  "nbformat_minor": 0
}
